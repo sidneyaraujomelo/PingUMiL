{
 "cells": [
  {
   "cell_type": "code",
   "execution_count": 1,
   "metadata": {},
   "outputs": [],
   "source": [
    "from pyts.classification import BOSSVS\n",
    "from pyts.multivariate.classification import MultivariateClassifier\n",
    "from sklearn.ensemble import RandomForestClassifier\n",
    "from sklearn.model_selection import train_test_split\n",
    "import pandas as pd\n",
    "match_column = \"source\"\n",
    "timestamp_column = \"timestamp\"\n",
    "class_column = \"winner\"\n",
    "non_data_columns = [match_column, timestamp_column, class_column]"
   ]
  },
  {
   "cell_type": "code",
   "execution_count": 2,
   "metadata": {},
   "outputs": [],
   "source": [
    "df = pd.read_csv(\"dataset/SmokeSquadron/ss_winprediction/lpmp_dataset_5s.csv\").drop(columns=[\"Unnamed: 0\"])\n",
    "data_columns = [x for x in df.columns if x not in non_data_columns]"
   ]
  },
  {
   "cell_type": "code",
   "execution_count": 3,
   "metadata": {},
   "outputs": [],
   "source": [
    "data_index = []\n",
    "# Get the unique sources in the DataFrame\n",
    "unique_sources = df[match_column].unique()\n",
    "\n",
    "# Iterate over each source\n",
    "for source in unique_sources:\n",
    "    source_subset = df[df[match_column] == source]\n",
    "    data_index = data_index + list(source_subset.index[4:])\n",
    "\n",
    "index_train, index_test, _, _ = train_test_split(data_index, [0]*len(data_index), test_size=0.33)"
   ]
  },
  {
   "cell_type": "code",
   "execution_count": 4,
   "metadata": {},
   "outputs": [],
   "source": [
    "from sklearn.metrics import ( accuracy_score, precision_score, recall_score, f1_score)\n",
    "import json\n",
    "\n",
    "def create_output_dict():\n",
    "    output_dict = {\n",
    "        \"parameters\": [],\n",
    "        \"fold\" : [],\n",
    "        \"timestamp\" : [],\n",
    "        \"accuracy_train\" : [],\n",
    "        \"precision_train\" : [],\n",
    "        \"recall_train\" : [],\n",
    "        \"f1_train\": [],\n",
    "        \"accuracy_test\" : [],\n",
    "        \"precision_test\" : [],\n",
    "        \"recall_test\" : [],\n",
    "        \"f1_test\": []    \n",
    "    }\n",
    "    return output_dict\n",
    "\n",
    "def add_metrics_to_output_dict(output_dict, param, fold, timestamp, y_train, y_train_hat, y_test, y_test_hat):\n",
    "    acc_train = accuracy_score(y_train, y_train_hat)\n",
    "    prec_train = precision_score(y_train, y_train_hat, average=\"macro\")\n",
    "    rec_train = recall_score(y_train, y_train_hat, average=\"macro\")\n",
    "    f1_train = f1_score(y_train, y_train_hat, average=\"macro\")\n",
    "    output_dict[\"parameters\"].append(json.dumps(param))\n",
    "    output_dict[\"fold\"].append(fold)\n",
    "    output_dict[\"timestamp\"].append(timestamp)\n",
    "    output_dict[\"accuracy_train\"].append(acc_train)\n",
    "    output_dict[\"precision_train\"].append(prec_train)\n",
    "    output_dict[\"recall_train\"].append(rec_train)\n",
    "    output_dict[\"f1_train\"].append(f1_train)\n",
    "    acc_test = accuracy_score(y_test, y_test_hat)\n",
    "    prec_test = precision_score(y_test, y_test_hat, average=\"macro\")\n",
    "    rec_test = recall_score(y_test, y_test_hat, average=\"macro\")\n",
    "    f1_test = f1_score(y_test, y_test_hat, average=\"macro\")\n",
    "    output_dict[\"accuracy_test\"].append(acc_test)\n",
    "    output_dict[\"precision_test\"].append(prec_test)\n",
    "    output_dict[\"recall_test\"].append(rec_test)\n",
    "    output_dict[\"f1_test\"].append(f1_test)\n",
    "    return output_dict"
   ]
  },
  {
   "cell_type": "markdown",
   "metadata": {},
   "source": [
    "### Random Forest Stratified Group 3-Fold"
   ]
  },
  {
   "cell_type": "code",
   "execution_count": 5,
   "metadata": {},
   "outputs": [],
   "source": [
    "from sklearn.model_selection import StratifiedGroupKFold, ParameterGrid\n",
    "from sklearn.linear_model import RidgeClassifier\n",
    "from sklearn.pipeline import Pipeline\n",
    "import json"
   ]
  },
  {
   "cell_type": "code",
   "execution_count": 6,
   "metadata": {},
   "outputs": [],
   "source": [
    "data_index = []\n",
    "y = []\n",
    "# Get the unique sources in the DataFrame\n",
    "unique_sources = df[match_column].unique()\n",
    "\n",
    "# Iterate over each source\n",
    "for source in unique_sources:\n",
    "    source_subset = df[df[match_column] == source]\n",
    "    data_index.append(list(source_subset.index[4:]))\n",
    "    y.append(source_subset.loc[source_subset.index[0],class_column])\n",
    "assert len(data_index) == len(y)"
   ]
  },
  {
   "cell_type": "code",
   "execution_count": 7,
   "metadata": {},
   "outputs": [],
   "source": [
    "parameters = {'n_estimators': [10, 50]}"
   ]
  },
  {
   "cell_type": "code",
   "execution_count": 44,
   "metadata": {},
   "outputs": [
    {
     "name": "stdout",
     "output_type": "stream",
     "text": [
      "fold 0\n"
     ]
    },
    {
     "name": "stderr",
     "output_type": "stream",
     "text": [
      "/raid/home/smelo/anaconda3/envs/pytorchgeo/lib/python3.8/site-packages/sklearn/metrics/_classification.py:1318: UndefinedMetricWarning: Precision is ill-defined and being set to 0.0 in labels with no predicted samples. Use `zero_division` parameter to control this behavior.\n",
      "  _warn_prf(average, modifier, msg_start, len(result))\n"
     ]
    },
    {
     "name": "stdout",
     "output_type": "stream",
     "text": [
      "fold 1\n",
      "fold 2\n"
     ]
    }
   ],
   "source": [
    "sgkf = StratifiedGroupKFold(n_splits=3)\n",
    "sgkf.get_n_splits(data_index, y)\n",
    "output_dict = create_output_dict()\n",
    "for fold, (train_index, test_index) in enumerate(sgkf.split(data_index, y, unique_sources)):\n",
    "    print(f\"fold {fold}\")\n",
    "    index_train = [x for idx in train_index for x in data_index[idx]]\n",
    "    index_test = [x for idx in test_index for x in data_index[idx]]\n",
    "    unique_timestamps = df['timestamp'].unique()[4:]\n",
    "    X_train = []\n",
    "    y_train = []\n",
    "    X_test = []\n",
    "    y_test = []\n",
    "    for timestamp in unique_timestamps:\n",
    "        #print(f\"timestamp {unique_timestamp}\")\n",
    "        timestamp_subset = df[df['timestamp']==timestamp]\n",
    "        ts_index_train = [x for x in timestamp_subset.index if x in list(index_train)]\n",
    "        ts_index_test = [x for x in timestamp_subset.index if x in list(index_test)]\n",
    "        for i in range(len(ts_index_train)):\n",
    "            X_train.append(df.loc[ts_index_train[i]-4:ts_index_train[i],data_columns])\n",
    "            y_train.append(df.loc[ts_index_train[i], class_column])\n",
    "        for i in range(len(ts_index_test)):\n",
    "            X_test.append(df.loc[ts_index_test[i]-4:ts_index_test[i], data_columns])\n",
    "            y_test.append(df.loc[ts_index_test[i], class_column])\n",
    "        #print(X_train, y_train)\n",
    "        for param in list(ParameterGrid(parameters)):\n",
    "            #print(param)\n",
    "            lr_ridge = RandomForestClassifier(**param)\n",
    "            clf = MultivariateClassifier(lr_ridge)\n",
    "            clf.fit(X_train, y_train)\n",
    "            y_train_hat = clf.predict(X_train)\n",
    "            y_test_hat = clf.predict(X_test)\n",
    "            output_dict = add_metrics_to_output_dict(output_dict, param, fold, timestamp, y_train, y_train_hat, y_test, y_test_hat)\n",
    "            \n"
   ]
  },
  {
   "cell_type": "code",
   "execution_count": 45,
   "metadata": {},
   "outputs": [
    {
     "name": "stdout",
     "output_type": "stream",
     "text": [
      "              fold    timestamp  accuracy_train  precision_train  \\\n",
      "count  1071.000000  1071.000000     1071.000000      1071.000000   \n",
      "mean      1.000000   320.000000        0.725604         0.726602   \n",
      "std       0.816878   171.835881        0.024023         0.030319   \n",
      "min       0.000000    25.000000        0.662461         0.658915   \n",
      "25%       0.000000   170.000000        0.706886         0.702136   \n",
      "50%       1.000000   320.000000        0.727273         0.725371   \n",
      "75%       2.000000   470.000000        0.732928         0.744760   \n",
      "max       2.000000   615.000000        0.869565         0.911765   \n",
      "\n",
      "       recall_train     f1_train  accuracy_test  precision_test  recall_test  \\\n",
      "count   1071.000000  1071.000000    1071.000000     1071.000000  1071.000000   \n",
      "mean       0.704589     0.707253       0.501858        0.482203     0.480746   \n",
      "std        0.028267     0.028604       0.067015        0.073160     0.060958   \n",
      "min        0.629005     0.619226       0.405728        0.304348     0.398509   \n",
      "25%        0.682798     0.685914       0.451295        0.420071     0.423563   \n",
      "50%        0.708473     0.710287       0.493294        0.457485     0.466608   \n",
      "75%        0.714944     0.717368       0.538922        0.528642     0.525227   \n",
      "max        0.833333     0.851613       0.695652        0.833333     0.642887   \n",
      "\n",
      "           f1_test  \n",
      "count  1071.000000  \n",
      "mean      0.470539  \n",
      "std       0.062354  \n",
      "min       0.378378  \n",
      "25%       0.414739  \n",
      "50%       0.446108  \n",
      "75%       0.514257  \n",
      "max       0.644288  \n"
     ]
    }
   ],
   "source": [
    "output_df = pd.DataFrame.from_dict(output_dict)\n",
    "output_df.to_csv(\"rf2_sg3f.csv\")\n",
    "print(output_df.describe())"
   ]
  },
  {
   "cell_type": "markdown",
   "metadata": {},
   "source": [
    "### Lr Stratified Group 3-fold + CSF"
   ]
  },
  {
   "cell_type": "code",
   "execution_count": 46,
   "metadata": {},
   "outputs": [],
   "source": [
    "from skfeature.function.statistical_based import CFS"
   ]
  },
  {
   "cell_type": "code",
   "execution_count": 47,
   "metadata": {},
   "outputs": [
    {
     "name": "stdout",
     "output_type": "stream",
     "text": [
      "[ 5  8 12 15  6 13]\n"
     ]
    }
   ],
   "source": [
    "features = CFS.cfs(df.loc[:,data_columns].to_numpy(), df.loc[:,class_column])\n",
    "print(features)"
   ]
  },
  {
   "cell_type": "code",
   "execution_count": 48,
   "metadata": {},
   "outputs": [
    {
     "name": "stdout",
     "output_type": "stream",
     "text": [
      "['angular_movementdiff', 'angular_movementplayer02', 'distancediff', 'distanceplayer02', 'angular_movementplayer01', 'distanceplayer01']\n"
     ]
    }
   ],
   "source": [
    "csf_data_columns = [data_columns[feature] for feature in features]\n",
    "print(csf_data_columns)"
   ]
  },
  {
   "cell_type": "code",
   "execution_count": 49,
   "metadata": {},
   "outputs": [
    {
     "name": "stdout",
     "output_type": "stream",
     "text": [
      "fold 0\n"
     ]
    },
    {
     "name": "stdout",
     "output_type": "stream",
     "text": [
      "fold 1\n"
     ]
    },
    {
     "name": "stderr",
     "output_type": "stream",
     "text": [
      "/raid/home/smelo/anaconda3/envs/pytorchgeo/lib/python3.8/site-packages/sklearn/metrics/_classification.py:1318: UndefinedMetricWarning: Precision is ill-defined and being set to 0.0 in labels with no predicted samples. Use `zero_division` parameter to control this behavior.\n",
      "  _warn_prf(average, modifier, msg_start, len(result))\n",
      "/raid/home/smelo/anaconda3/envs/pytorchgeo/lib/python3.8/site-packages/sklearn/metrics/_classification.py:1318: UndefinedMetricWarning: Precision is ill-defined and being set to 0.0 in labels with no predicted samples. Use `zero_division` parameter to control this behavior.\n",
      "  _warn_prf(average, modifier, msg_start, len(result))\n",
      "/raid/home/smelo/anaconda3/envs/pytorchgeo/lib/python3.8/site-packages/sklearn/metrics/_classification.py:1318: UndefinedMetricWarning: Precision is ill-defined and being set to 0.0 in labels with no predicted samples. Use `zero_division` parameter to control this behavior.\n",
      "  _warn_prf(average, modifier, msg_start, len(result))\n",
      "/raid/home/smelo/anaconda3/envs/pytorchgeo/lib/python3.8/site-packages/sklearn/metrics/_classification.py:1318: UndefinedMetricWarning: Precision is ill-defined and being set to 0.0 in labels with no predicted samples. Use `zero_division` parameter to control this behavior.\n",
      "  _warn_prf(average, modifier, msg_start, len(result))\n",
      "/raid/home/smelo/anaconda3/envs/pytorchgeo/lib/python3.8/site-packages/sklearn/metrics/_classification.py:1318: UndefinedMetricWarning: Precision is ill-defined and being set to 0.0 in labels with no predicted samples. Use `zero_division` parameter to control this behavior.\n",
      "  _warn_prf(average, modifier, msg_start, len(result))\n",
      "/raid/home/smelo/anaconda3/envs/pytorchgeo/lib/python3.8/site-packages/sklearn/metrics/_classification.py:1318: UndefinedMetricWarning: Precision is ill-defined and being set to 0.0 in labels with no predicted samples. Use `zero_division` parameter to control this behavior.\n",
      "  _warn_prf(average, modifier, msg_start, len(result))\n"
     ]
    },
    {
     "name": "stdout",
     "output_type": "stream",
     "text": [
      "fold 2\n"
     ]
    },
    {
     "name": "stderr",
     "output_type": "stream",
     "text": [
      "/raid/home/smelo/anaconda3/envs/pytorchgeo/lib/python3.8/site-packages/sklearn/metrics/_classification.py:1318: UndefinedMetricWarning: Precision is ill-defined and being set to 0.0 in labels with no predicted samples. Use `zero_division` parameter to control this behavior.\n",
      "  _warn_prf(average, modifier, msg_start, len(result))\n",
      "/raid/home/smelo/anaconda3/envs/pytorchgeo/lib/python3.8/site-packages/sklearn/metrics/_classification.py:1318: UndefinedMetricWarning: Precision is ill-defined and being set to 0.0 in labels with no predicted samples. Use `zero_division` parameter to control this behavior.\n",
      "  _warn_prf(average, modifier, msg_start, len(result))\n",
      "/raid/home/smelo/anaconda3/envs/pytorchgeo/lib/python3.8/site-packages/sklearn/metrics/_classification.py:1318: UndefinedMetricWarning: Precision is ill-defined and being set to 0.0 in labels with no predicted samples. Use `zero_division` parameter to control this behavior.\n",
      "  _warn_prf(average, modifier, msg_start, len(result))\n",
      "/raid/home/smelo/anaconda3/envs/pytorchgeo/lib/python3.8/site-packages/sklearn/metrics/_classification.py:1318: UndefinedMetricWarning: Precision is ill-defined and being set to 0.0 in labels with no predicted samples. Use `zero_division` parameter to control this behavior.\n",
      "  _warn_prf(average, modifier, msg_start, len(result))\n",
      "/raid/home/smelo/anaconda3/envs/pytorchgeo/lib/python3.8/site-packages/sklearn/metrics/_classification.py:1318: UndefinedMetricWarning: Precision is ill-defined and being set to 0.0 in labels with no predicted samples. Use `zero_division` parameter to control this behavior.\n",
      "  _warn_prf(average, modifier, msg_start, len(result))\n",
      "/raid/home/smelo/anaconda3/envs/pytorchgeo/lib/python3.8/site-packages/sklearn/metrics/_classification.py:1318: UndefinedMetricWarning: Precision is ill-defined and being set to 0.0 in labels with no predicted samples. Use `zero_division` parameter to control this behavior.\n",
      "  _warn_prf(average, modifier, msg_start, len(result))\n",
      "/raid/home/smelo/anaconda3/envs/pytorchgeo/lib/python3.8/site-packages/sklearn/metrics/_classification.py:1318: UndefinedMetricWarning: Precision is ill-defined and being set to 0.0 in labels with no predicted samples. Use `zero_division` parameter to control this behavior.\n",
      "  _warn_prf(average, modifier, msg_start, len(result))\n",
      "/raid/home/smelo/anaconda3/envs/pytorchgeo/lib/python3.8/site-packages/sklearn/metrics/_classification.py:1318: UndefinedMetricWarning: Precision is ill-defined and being set to 0.0 in labels with no predicted samples. Use `zero_division` parameter to control this behavior.\n",
      "  _warn_prf(average, modifier, msg_start, len(result))\n",
      "/raid/home/smelo/anaconda3/envs/pytorchgeo/lib/python3.8/site-packages/sklearn/metrics/_classification.py:1318: UndefinedMetricWarning: Precision is ill-defined and being set to 0.0 in labels with no predicted samples. Use `zero_division` parameter to control this behavior.\n",
      "  _warn_prf(average, modifier, msg_start, len(result))\n",
      "/raid/home/smelo/anaconda3/envs/pytorchgeo/lib/python3.8/site-packages/sklearn/metrics/_classification.py:1318: UndefinedMetricWarning: Precision is ill-defined and being set to 0.0 in labels with no predicted samples. Use `zero_division` parameter to control this behavior.\n",
      "  _warn_prf(average, modifier, msg_start, len(result))\n",
      "/raid/home/smelo/anaconda3/envs/pytorchgeo/lib/python3.8/site-packages/sklearn/metrics/_classification.py:1318: UndefinedMetricWarning: Precision is ill-defined and being set to 0.0 in labels with no predicted samples. Use `zero_division` parameter to control this behavior.\n",
      "  _warn_prf(average, modifier, msg_start, len(result))\n",
      "/raid/home/smelo/anaconda3/envs/pytorchgeo/lib/python3.8/site-packages/sklearn/metrics/_classification.py:1318: UndefinedMetricWarning: Precision is ill-defined and being set to 0.0 in labels with no predicted samples. Use `zero_division` parameter to control this behavior.\n",
      "  _warn_prf(average, modifier, msg_start, len(result))\n",
      "/raid/home/smelo/anaconda3/envs/pytorchgeo/lib/python3.8/site-packages/sklearn/metrics/_classification.py:1318: UndefinedMetricWarning: Precision is ill-defined and being set to 0.0 in labels with no predicted samples. Use `zero_division` parameter to control this behavior.\n",
      "  _warn_prf(average, modifier, msg_start, len(result))\n",
      "/raid/home/smelo/anaconda3/envs/pytorchgeo/lib/python3.8/site-packages/sklearn/metrics/_classification.py:1318: UndefinedMetricWarning: Precision is ill-defined and being set to 0.0 in labels with no predicted samples. Use `zero_division` parameter to control this behavior.\n",
      "  _warn_prf(average, modifier, msg_start, len(result))\n",
      "/raid/home/smelo/anaconda3/envs/pytorchgeo/lib/python3.8/site-packages/sklearn/metrics/_classification.py:1318: UndefinedMetricWarning: Precision is ill-defined and being set to 0.0 in labels with no predicted samples. Use `zero_division` parameter to control this behavior.\n",
      "  _warn_prf(average, modifier, msg_start, len(result))\n",
      "/raid/home/smelo/anaconda3/envs/pytorchgeo/lib/python3.8/site-packages/sklearn/metrics/_classification.py:1318: UndefinedMetricWarning: Precision is ill-defined and being set to 0.0 in labels with no predicted samples. Use `zero_division` parameter to control this behavior.\n",
      "  _warn_prf(average, modifier, msg_start, len(result))\n",
      "/raid/home/smelo/anaconda3/envs/pytorchgeo/lib/python3.8/site-packages/sklearn/metrics/_classification.py:1318: UndefinedMetricWarning: Precision is ill-defined and being set to 0.0 in labels with no predicted samples. Use `zero_division` parameter to control this behavior.\n",
      "  _warn_prf(average, modifier, msg_start, len(result))\n",
      "/raid/home/smelo/anaconda3/envs/pytorchgeo/lib/python3.8/site-packages/sklearn/metrics/_classification.py:1318: UndefinedMetricWarning: Precision is ill-defined and being set to 0.0 in labels with no predicted samples. Use `zero_division` parameter to control this behavior.\n",
      "  _warn_prf(average, modifier, msg_start, len(result))\n",
      "/raid/home/smelo/anaconda3/envs/pytorchgeo/lib/python3.8/site-packages/sklearn/metrics/_classification.py:1318: UndefinedMetricWarning: Precision is ill-defined and being set to 0.0 in labels with no predicted samples. Use `zero_division` parameter to control this behavior.\n",
      "  _warn_prf(average, modifier, msg_start, len(result))\n",
      "/raid/home/smelo/anaconda3/envs/pytorchgeo/lib/python3.8/site-packages/sklearn/metrics/_classification.py:1318: UndefinedMetricWarning: Precision is ill-defined and being set to 0.0 in labels with no predicted samples. Use `zero_division` parameter to control this behavior.\n",
      "  _warn_prf(average, modifier, msg_start, len(result))\n",
      "/raid/home/smelo/anaconda3/envs/pytorchgeo/lib/python3.8/site-packages/sklearn/metrics/_classification.py:1318: UndefinedMetricWarning: Precision is ill-defined and being set to 0.0 in labels with no predicted samples. Use `zero_division` parameter to control this behavior.\n",
      "  _warn_prf(average, modifier, msg_start, len(result))\n",
      "/raid/home/smelo/anaconda3/envs/pytorchgeo/lib/python3.8/site-packages/sklearn/metrics/_classification.py:1318: UndefinedMetricWarning: Precision is ill-defined and being set to 0.0 in labels with no predicted samples. Use `zero_division` parameter to control this behavior.\n",
      "  _warn_prf(average, modifier, msg_start, len(result))\n",
      "/raid/home/smelo/anaconda3/envs/pytorchgeo/lib/python3.8/site-packages/sklearn/metrics/_classification.py:1318: UndefinedMetricWarning: Precision is ill-defined and being set to 0.0 in labels with no predicted samples. Use `zero_division` parameter to control this behavior.\n",
      "  _warn_prf(average, modifier, msg_start, len(result))\n",
      "/raid/home/smelo/anaconda3/envs/pytorchgeo/lib/python3.8/site-packages/sklearn/metrics/_classification.py:1318: UndefinedMetricWarning: Precision is ill-defined and being set to 0.0 in labels with no predicted samples. Use `zero_division` parameter to control this behavior.\n",
      "  _warn_prf(average, modifier, msg_start, len(result))\n",
      "/raid/home/smelo/anaconda3/envs/pytorchgeo/lib/python3.8/site-packages/sklearn/metrics/_classification.py:1318: UndefinedMetricWarning: Precision is ill-defined and being set to 0.0 in labels with no predicted samples. Use `zero_division` parameter to control this behavior.\n",
      "  _warn_prf(average, modifier, msg_start, len(result))\n",
      "/raid/home/smelo/anaconda3/envs/pytorchgeo/lib/python3.8/site-packages/sklearn/metrics/_classification.py:1318: UndefinedMetricWarning: Precision is ill-defined and being set to 0.0 in labels with no predicted samples. Use `zero_division` parameter to control this behavior.\n",
      "  _warn_prf(average, modifier, msg_start, len(result))\n"
     ]
    }
   ],
   "source": [
    "sgkf = StratifiedGroupKFold(n_splits=3)\n",
    "sgkf.get_n_splits(data_index, y)\n",
    "output_dict = create_output_dict()\n",
    "for fold, (train_index, test_index) in enumerate(sgkf.split(data_index, y, unique_sources)):\n",
    "    print(f\"fold {fold}\")\n",
    "    index_train = [x for idx in train_index for x in data_index[idx]]\n",
    "    index_test = [x for idx in test_index for x in data_index[idx]]\n",
    "    unique_timestamps = df['timestamp'].unique()[4:]\n",
    "    X_train = []\n",
    "    y_train = []\n",
    "    X_test = []\n",
    "    y_test = []\n",
    "    for unique_timestamp in unique_timestamps:\n",
    "        #print(f\"timestamp {unique_timestamp}\")\n",
    "        timestamp_subset = df[df['timestamp']==unique_timestamp]\n",
    "        ts_index_train = [x for x in timestamp_subset.index if x in list(index_train)]\n",
    "        ts_index_test = [x for x in timestamp_subset.index if x in list(index_test)]\n",
    "        for i in range(len(ts_index_train)):\n",
    "            X_train.append(df.loc[ts_index_train[i]-4:ts_index_train[i],csf_data_columns])\n",
    "            y_train.append(df.loc[ts_index_train[i], class_column])\n",
    "        for i in range(len(ts_index_test)):\n",
    "            X_test.append(df.loc[ts_index_test[i]-4:ts_index_test[i], csf_data_columns])\n",
    "            y_test.append(df.loc[ts_index_test[i], class_column])\n",
    "        for param in list(ParameterGrid(parameters)):\n",
    "            lr_ridge = RidgeClassifier(**param)\n",
    "            clf = MultivariateClassifier(lr_ridge)\n",
    "            clf.fit(X_train, y_train)\n",
    "            y_train_hat = clf.predict(X_train)\n",
    "            y_test_hat = clf.predict(X_test)\n",
    "            output_dict = add_metrics_to_output_dict(output_dict, param, fold, timestamp, y_train, y_train_hat, y_test, y_test_hat)\n"
   ]
  },
  {
   "cell_type": "code",
   "execution_count": 50,
   "metadata": {},
   "outputs": [
    {
     "name": "stdout",
     "output_type": "stream",
     "text": [
      "              fold  timestamp  accuracy_train  precision_train  recall_train  \\\n",
      "count  1071.000000     1071.0     1071.000000      1071.000000   1071.000000   \n",
      "mean      1.000000      615.0        0.616842         0.620623      0.563788   \n",
      "std       0.816878        0.0        0.024154         0.055787      0.032944   \n",
      "min       0.000000      615.0        0.576342         0.289557      0.497283   \n",
      "25%       0.000000      615.0        0.600564         0.594007      0.542000   \n",
      "50%       1.000000      615.0        0.612260         0.621344      0.562456   \n",
      "75%       2.000000      615.0        0.627343         0.646159      0.580894   \n",
      "max       2.000000      615.0        0.700312         0.825581      0.672307   \n",
      "\n",
      "          f1_train  accuracy_test  precision_test  recall_test      f1_test  \n",
      "count  1071.000000    1071.000000     1071.000000  1071.000000  1071.000000  \n",
      "mean      0.525677       0.577518        0.605266     0.528165     0.475389  \n",
      "std       0.055829       0.044970        0.120382     0.040358     0.047958  \n",
      "min       0.366000       0.455847        0.276167     0.410691     0.355809  \n",
      "25%       0.494213       0.539841        0.501811     0.501709     0.454601  \n",
      "50%       0.528462       0.585714        0.602461     0.533492     0.477628  \n",
      "75%       0.559416       0.602266        0.721227     0.555556     0.502418  \n",
      "max       0.673157       0.701863        0.835616     0.652308     0.653175  \n"
     ]
    }
   ],
   "source": [
    "output_df = pd.DataFrame.from_dict(output_dict)\n",
    "output_df.to_csv(\"rf2_sg3f_csf.csv\")\n",
    "print(output_df.describe())"
   ]
  }
 ],
 "metadata": {
  "kernelspec": {
   "display_name": "pytorchgeo",
   "language": "python",
   "name": "python3"
  },
  "language_info": {
   "codemirror_mode": {
    "name": "ipython",
    "version": 3
   },
   "file_extension": ".py",
   "mimetype": "text/x-python",
   "name": "python",
   "nbconvert_exporter": "python",
   "pygments_lexer": "ipython3",
   "version": "3.8.13"
  },
  "orig_nbformat": 4
 },
 "nbformat": 4,
 "nbformat_minor": 2
}
