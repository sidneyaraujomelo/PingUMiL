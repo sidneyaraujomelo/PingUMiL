{
 "cells": [
  {
   "cell_type": "code",
   "execution_count": 8,
   "metadata": {},
   "outputs": [],
   "source": [
    "from pyts.classification import BOSSVS\n",
    "from pyts.multivariate.classification import MultivariateClassifier\n",
    "from lightgbm import LGBMClassifier\n",
    "from sklearn.model_selection import train_test_split\n",
    "import pandas as pd\n",
    "match_column = \"source\"\n",
    "timestamp_column = \"timestamp\"\n",
    "class_column = \"winner\"\n",
    "non_data_columns = [match_column, timestamp_column, class_column]"
   ]
  },
  {
   "cell_type": "code",
   "execution_count": 2,
   "metadata": {},
   "outputs": [],
   "source": [
    "df = pd.read_csv(\"dataset/SmokeSquadron/ss_winprediction/lpmp_dataset_5s.csv\").drop(columns=[\"Unnamed: 0\"])\n",
    "data_columns = [x for x in df.columns if x not in non_data_columns]"
   ]
  },
  {
   "cell_type": "code",
   "execution_count": 3,
   "metadata": {},
   "outputs": [],
   "source": [
    "data_index = []\n",
    "# Get the unique sources in the DataFrame\n",
    "unique_sources = df[match_column].unique()\n",
    "\n",
    "# Iterate over each source\n",
    "for source in unique_sources:\n",
    "    source_subset = df[df[match_column] == source]\n",
    "    data_index = data_index + list(source_subset.index[4:])\n",
    "\n",
    "index_train, index_test, _, _ = train_test_split(data_index, [0]*len(data_index), test_size=0.33)"
   ]
  },
  {
   "cell_type": "code",
   "execution_count": 4,
   "metadata": {},
   "outputs": [],
   "source": [
    "from sklearn.metrics import ( accuracy_score, precision_score, recall_score, f1_score)\n",
    "import json\n",
    "\n",
    "def create_output_dict():\n",
    "    output_dict = {\n",
    "        \"parameters\": [],\n",
    "        \"fold\" : [],\n",
    "        \"timestamp\" : [],\n",
    "        \"accuracy_train\" : [],\n",
    "        \"precision_train\" : [],\n",
    "        \"recall_train\" : [],\n",
    "        \"f1_train\": [],\n",
    "        \"accuracy_test\" : [],\n",
    "        \"precision_test\" : [],\n",
    "        \"recall_test\" : [],\n",
    "        \"f1_test\": []    \n",
    "    }\n",
    "    return output_dict\n",
    "\n",
    "def add_metrics_to_output_dict(output_dict, param, fold, timestamp, y_train, y_train_hat, y_test, y_test_hat):\n",
    "    acc_train = accuracy_score(y_train, y_train_hat)\n",
    "    prec_train = precision_score(y_train, y_train_hat, average=\"macro\")\n",
    "    rec_train = recall_score(y_train, y_train_hat, average=\"macro\")\n",
    "    f1_train = f1_score(y_train, y_train_hat, average=\"macro\")\n",
    "    output_dict[\"parameters\"].append(json.dumps(param))\n",
    "    output_dict[\"fold\"].append(fold)\n",
    "    output_dict[\"timestamp\"].append(timestamp)\n",
    "    output_dict[\"accuracy_train\"].append(acc_train)\n",
    "    output_dict[\"precision_train\"].append(prec_train)\n",
    "    output_dict[\"recall_train\"].append(rec_train)\n",
    "    output_dict[\"f1_train\"].append(f1_train)\n",
    "    acc_test = accuracy_score(y_test, y_test_hat)\n",
    "    prec_test = precision_score(y_test, y_test_hat, average=\"macro\")\n",
    "    rec_test = recall_score(y_test, y_test_hat, average=\"macro\")\n",
    "    f1_test = f1_score(y_test, y_test_hat, average=\"macro\")\n",
    "    output_dict[\"accuracy_test\"].append(acc_test)\n",
    "    output_dict[\"precision_test\"].append(prec_test)\n",
    "    output_dict[\"recall_test\"].append(rec_test)\n",
    "    output_dict[\"f1_test\"].append(f1_test)\n",
    "    return output_dict"
   ]
  },
  {
   "cell_type": "markdown",
   "metadata": {},
   "source": [
    "### Random Forest Stratified Group 3-Fold"
   ]
  },
  {
   "cell_type": "code",
   "execution_count": 5,
   "metadata": {},
   "outputs": [],
   "source": [
    "from sklearn.model_selection import StratifiedGroupKFold, ParameterGrid\n",
    "from sklearn.pipeline import Pipeline\n",
    "import json"
   ]
  },
  {
   "cell_type": "code",
   "execution_count": 6,
   "metadata": {},
   "outputs": [],
   "source": [
    "data_index = []\n",
    "y = []\n",
    "# Get the unique sources in the DataFrame\n",
    "unique_sources = df[match_column].unique()\n",
    "\n",
    "# Iterate over each source\n",
    "for source in unique_sources:\n",
    "    source_subset = df[df[match_column] == source]\n",
    "    data_index.append(list(source_subset.index[4:]))\n",
    "    y.append(source_subset.loc[source_subset.index[0],class_column])\n",
    "assert len(data_index) == len(y)"
   ]
  },
  {
   "cell_type": "code",
   "execution_count": 7,
   "metadata": {},
   "outputs": [],
   "source": [
    "parameters = {'n_estimators': [10, 50, 100], 'num_leaves': [5, 10, 20], 'objective': ['binary']}"
   ]
  },
  {
   "cell_type": "code",
   "execution_count": 8,
   "metadata": {},
   "outputs": [
    {
     "name": "stdout",
     "output_type": "stream",
     "text": [
      "fold 0\n",
      "fold 1\n",
      "fold 2\n"
     ]
    }
   ],
   "source": [
    "sgkf = StratifiedGroupKFold(n_splits=3)\n",
    "sgkf.get_n_splits(data_index, y)\n",
    "output_dict = create_output_dict()\n",
    "for fold, (train_index, test_index) in enumerate(sgkf.split(data_index, y, unique_sources)):\n",
    "    print(f\"fold {fold}\")\n",
    "    index_train = [x for idx in train_index for x in data_index[idx]]\n",
    "    index_test = [x for idx in test_index for x in data_index[idx]]\n",
    "    unique_timestamps = df['timestamp'].unique()[4:]\n",
    "    X_train = []\n",
    "    y_train = []\n",
    "    X_test = []\n",
    "    y_test = []\n",
    "    for timestamp in unique_timestamps:\n",
    "        #print(f\"timestamp {unique_timestamp}\")\n",
    "        timestamp_subset = df[df['timestamp']==timestamp]\n",
    "        ts_index_train = [x for x in timestamp_subset.index if x in list(index_train)]\n",
    "        ts_index_test = [x for x in timestamp_subset.index if x in list(index_test)]\n",
    "        for i in range(len(ts_index_train)):\n",
    "            X_train.append(df.loc[ts_index_train[i]-4:ts_index_train[i],data_columns])\n",
    "            y_train.append(df.loc[ts_index_train[i], class_column])\n",
    "        for i in range(len(ts_index_test)):\n",
    "            X_test.append(df.loc[ts_index_test[i]-4:ts_index_test[i], data_columns])\n",
    "            y_test.append(df.loc[ts_index_test[i], class_column])\n",
    "        #print(X_train, y_train)\n",
    "        for param in list(ParameterGrid(parameters)):\n",
    "            #print(param)\n",
    "            lgb_clf = LGBMClassifier(**param)\n",
    "            clf = MultivariateClassifier(lgb_clf)\n",
    "            clf.fit(X_train, y_train)\n",
    "            y_train_hat = clf.predict(X_train)\n",
    "            y_test_hat = clf.predict(X_test)\n",
    "            output_dict = add_metrics_to_output_dict(output_dict, param, fold, timestamp, y_train, y_train_hat, y_test, y_test_hat)\n",
    "            \n"
   ]
  },
  {
   "cell_type": "code",
   "execution_count": 9,
   "metadata": {},
   "outputs": [
    {
     "name": "stdout",
     "output_type": "stream",
     "text": [
      "             fold   timestamp  accuracy_train  precision_train  recall_train  \\\n",
      "count  714.000000  714.000000      714.000000       714.000000    714.000000   \n",
      "mean     1.000000  320.000000        0.999969         0.999964      0.999973   \n",
      "std      0.817069  171.876044        0.000814         0.000936      0.000694   \n",
      "min      0.000000   25.000000        0.978261         0.975000      0.981481   \n",
      "25%      0.000000  170.000000        1.000000         1.000000      1.000000   \n",
      "50%      1.000000  320.000000        1.000000         1.000000      1.000000   \n",
      "75%      2.000000  470.000000        1.000000         1.000000      1.000000   \n",
      "max      2.000000  615.000000        1.000000         1.000000      1.000000   \n",
      "\n",
      "         f1_train  accuracy_test  precision_test  recall_test     f1_test  \n",
      "count  714.000000     714.000000      714.000000   714.000000  714.000000  \n",
      "mean     0.999968       0.586388        0.574254     0.569267    0.558767  \n",
      "std      0.000833       0.046295        0.059441     0.052258    0.060494  \n",
      "min      0.977746       0.482121        0.432922     0.445781    0.421586  \n",
      "25%      1.000000       0.553211        0.544821     0.537405    0.520608  \n",
      "50%      1.000000       0.582811        0.578334     0.574742    0.566900  \n",
      "75%      1.000000       0.615269        0.610141     0.604712    0.601985  \n",
      "max      1.000000       0.753623        0.850000     0.705541    0.712852  \n"
     ]
    }
   ],
   "source": [
    "output_df = pd.DataFrame.from_dict(output_dict)\n",
    "output_df.to_csv(\"rf2_sg3f.csv\")\n",
    "print(output_df.describe())"
   ]
  },
  {
   "cell_type": "markdown",
   "metadata": {},
   "source": [
    "### Lr Stratified Group 3-fold + CSF"
   ]
  },
  {
   "cell_type": "code",
   "execution_count": 8,
   "metadata": {},
   "outputs": [],
   "source": [
    "from skfeature.function.statistical_based import CFS"
   ]
  },
  {
   "cell_type": "code",
   "execution_count": 9,
   "metadata": {},
   "outputs": [
    {
     "name": "stdout",
     "output_type": "stream",
     "text": [
      "[ 5  8 12 15  6 13]\n"
     ]
    }
   ],
   "source": [
    "features = CFS.cfs(df.loc[:,data_columns].to_numpy(), df.loc[:,class_column])\n",
    "print(features)"
   ]
  },
  {
   "cell_type": "code",
   "execution_count": 10,
   "metadata": {},
   "outputs": [
    {
     "name": "stdout",
     "output_type": "stream",
     "text": [
      "['angular_movementdiff', 'angular_movementplayer02', 'distancediff', 'distanceplayer02', 'angular_movementplayer01', 'distanceplayer01']\n"
     ]
    }
   ],
   "source": [
    "csf_data_columns = [data_columns[feature] for feature in features]\n",
    "print(csf_data_columns)"
   ]
  },
  {
   "cell_type": "code",
   "execution_count": 14,
   "metadata": {},
   "outputs": [
    {
     "name": "stdout",
     "output_type": "stream",
     "text": [
      "fold 0\n",
      "fold 1\n",
      "fold 2\n"
     ]
    }
   ],
   "source": [
    "sgkf = StratifiedGroupKFold(n_splits=3)\n",
    "sgkf.get_n_splits(data_index, y)\n",
    "output_dict = create_output_dict()\n",
    "for fold, (train_index, test_index) in enumerate(sgkf.split(data_index, y, unique_sources)):\n",
    "    print(f\"fold {fold}\")\n",
    "    index_train = [x for idx in train_index for x in data_index[idx]]\n",
    "    index_test = [x for idx in test_index for x in data_index[idx]]\n",
    "    unique_timestamps = df['timestamp'].unique()[4:]\n",
    "    X_train = []\n",
    "    y_train = []\n",
    "    X_test = []\n",
    "    y_test = []\n",
    "    for timestamp in unique_timestamps:\n",
    "        #print(f\"timestamp {unique_timestamp}\")\n",
    "        timestamp_subset = df[df['timestamp']==timestamp]\n",
    "        ts_index_train = [x for x in timestamp_subset.index if x in list(index_train)]\n",
    "        ts_index_test = [x for x in timestamp_subset.index if x in list(index_test)]\n",
    "        for i in range(len(ts_index_train)):\n",
    "            X_train.append(df.loc[ts_index_train[i]-4:ts_index_train[i],csf_data_columns])\n",
    "            y_train.append(df.loc[ts_index_train[i], class_column])\n",
    "        for i in range(len(ts_index_test)):\n",
    "            X_test.append(df.loc[ts_index_test[i]-4:ts_index_test[i], csf_data_columns])\n",
    "            y_test.append(df.loc[ts_index_test[i], class_column])\n",
    "        for param in list(ParameterGrid(parameters)):\n",
    "            rf_clf = RandomForestClassifier(**param)\n",
    "            clf = MultivariateClassifier(rf_clf)\n",
    "            clf.fit(X_train, y_train)\n",
    "            y_train_hat = clf.predict(X_train)\n",
    "            y_test_hat = clf.predict(X_test)\n",
    "            output_dict = add_metrics_to_output_dict(output_dict, param, fold, timestamp, y_train, y_train_hat, y_test, y_test_hat)\n"
   ]
  },
  {
   "cell_type": "code",
   "execution_count": 15,
   "metadata": {},
   "outputs": [
    {
     "name": "stdout",
     "output_type": "stream",
     "text": [
      "             fold   timestamp  accuracy_train  precision_train  recall_train  \\\n",
      "count  714.000000  714.000000      714.000000       714.000000    714.000000   \n",
      "mean     1.000000  320.000000        0.999935         0.999927      0.999939   \n",
      "std      0.817069  171.876044        0.000374         0.000427      0.000342   \n",
      "min      0.000000   25.000000        0.992754         0.991379      0.993827   \n",
      "25%      0.000000  170.000000        1.000000         1.000000      1.000000   \n",
      "50%      1.000000  320.000000        1.000000         1.000000      1.000000   \n",
      "75%      2.000000  470.000000        1.000000         1.000000      1.000000   \n",
      "max      2.000000  615.000000        1.000000         1.000000      1.000000   \n",
      "\n",
      "         f1_train  accuracy_test  precision_test  recall_test     f1_test  \n",
      "count  714.000000     714.000000      714.000000   714.000000  714.000000  \n",
      "mean     0.999933       0.595845        0.585605     0.577869    0.574078  \n",
      "std      0.000384       0.038073        0.037188     0.030825    0.033342  \n",
      "min      0.992547       0.521834        0.517157     0.513889    0.505376  \n",
      "25%      1.000000       0.562874        0.557039     0.552442    0.546662  \n",
      "50%      1.000000       0.588769        0.576378     0.573929    0.570411  \n",
      "75%      1.000000       0.628040        0.614972     0.603055    0.601508  \n",
      "max      1.000000       0.701863        0.754167     0.670068    0.674089  \n"
     ]
    }
   ],
   "source": [
    "output_df = pd.DataFrame.from_dict(output_dict)\n",
    "output_df.to_csv(\"rf2_sg3f_csf.csv\")\n",
    "print(output_df.describe())"
   ]
  }
 ],
 "metadata": {
  "kernelspec": {
   "display_name": "pytorchgeo",
   "language": "python",
   "name": "python3"
  },
  "language_info": {
   "codemirror_mode": {
    "name": "ipython",
    "version": 3
   },
   "file_extension": ".py",
   "mimetype": "text/x-python",
   "name": "python",
   "nbconvert_exporter": "python",
   "pygments_lexer": "ipython3",
   "version": "3.8.13"
  },
  "orig_nbformat": 4
 },
 "nbformat": 4,
 "nbformat_minor": 2
}
